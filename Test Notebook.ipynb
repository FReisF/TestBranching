{
 "cells": [
  {
   "cell_type": "markdown",
   "metadata": {
    "collapsed": true
   },
   "source": [
    "# My Jupyter Notebook on IBM Watson Studio"
   ]
  },
  {
   "cell_type": "markdown",
   "metadata": {},
   "source": [
    "<b>Felipe Reis Fernandes</b>\n",
    "<br>\n",
    "Current Job: Data Analyst"
   ]
  },
  {
   "cell_type": "markdown",
   "metadata": {},
   "source": [
    "<i>I am interested in data science for the possibilities it can create.</i>\n",
    "<br>\n",
    "<i>These possibilities are the capabilities of understanding and predicting phenomena in several different fields with scientific approach<i/>"
   ]
  },
  {
   "cell_type": "markdown",
   "metadata": {},
   "source": [
    "### The code bellow prints the number pi plus the square root of a number rounded by two decimals points "
   ]
  },
  {
   "cell_type": "code",
   "execution_count": 8,
   "metadata": {},
   "outputs": [
    {
     "name": "stdout",
     "output_type": "stream",
     "text": [
      "4.56\n"
     ]
    }
   ],
   "source": [
    "import math\n",
    "def sqrt_plus_pi(n):\n",
    "    print(round(math.pi + math.sqrt(n),2))\n",
    "sqrt_plus_pi(2)"
   ]
  },
  {
   "cell_type": "markdown",
   "metadata": {},
   "source": [
    "<ol>\n",
    "    <li>Python</li>\n",
    "    <li>SQL</li>\n",
    "    <li>Java</li>\n",
    "    <li>Ruby</li>\n",
    "    <li>Pearl</li>\n",
    "</ol>\n",
    "<br>\n",
    "<br>\n",
    "<table>\n",
    "    <tr>\n",
    "        <th>Country</th>\n",
    "        <th>Capital</th>\n",
    "        <th>Language</th>\n",
    "    </tr>\n",
    "    <tr>\n",
    "        <td>Portugal</td>\n",
    "        <td>Japan</td>\n",
    "        <td>Uruguay</td>\n",
    "    </tr>\n",
    "    <tr>\n",
    "        <td>Lisbon</td>\n",
    "        <td>Tokyo</td>\n",
    "        <td>Montevideo</td>\n",
    "    </tr>\n",
    "    <tr>\n",
    "        <td>Portuguese</td>\n",
    "        <td>Japanese</td>\n",
    "        <td>Spanish</td>\n",
    "    </tr>\n",
    "</table>\n",
    "<br>\n",
    "<br>\n",
    "<br>\n",
    "<a href = \"https://www.w3schools.com/html/html_links.asp\">HTML for Hyperlinks - how to</a>"
   ]
  },
  {
   "cell_type": "code",
   "execution_count": null,
   "metadata": {},
   "outputs": [],
   "source": []
  }
 ],
 "metadata": {
  "kernelspec": {
   "display_name": "Python 3.9",
   "language": "python",
   "name": "python3"
  },
  "language_info": {
   "codemirror_mode": {
    "name": "ipython",
    "version": 3
   },
   "file_extension": ".py",
   "mimetype": "text/x-python",
   "name": "python",
   "nbconvert_exporter": "python",
   "pygments_lexer": "ipython3",
   "version": "3.9.12"
  }
 },
 "nbformat": 4,
 "nbformat_minor": 1
}
